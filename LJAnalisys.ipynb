{
 "cells": [
  {
   "cell_type": "code",
   "execution_count": 1,
   "metadata": {
    "collapsed": false
   },
   "outputs": [],
   "source": [
    "%mathplotlib inline\n",
    "import pymongo\n",
    "import matplotlib.pyplot as plt\n",
    "import datetime as dt\n",
    "\n",
    "\n",
    "\n",
    "db = pymongo.MongoClient(host=\"192.168.13.133\").get_database(name=\"SNCrawler\")\n",
    "\n",
    "n_users_per_month_and_year = db.get_collection(\"livejournal_number_of_users_per_month_and_year\").find()\n",
    "x = []\n",
    "y = []\n",
    "for iterable in list(n_users_per_month_and_year):\n",
    "    if str(iterable['_id']).replace(\" \", \" \") > \"20001\":\n",
    "        time = str(iterable['_id'])\n",
    "        x.append(dt.datetime.strptime(time, '%Y %m').date())\n",
    "        y.append(iterable['value'])\n",
    "\n",
    "# x = map(lambda dbo: dbo['_id'], iterables)\n",
    "# y = map(lambda dbo: dbo['value'], iterables)\n",
    "print(x)\n",
    "print(y)\n",
    "plt.figure(figsize=(20, 10))\n",
    "plt.title('First post activity')\n",
    "plt.xlabel('First post date')\n",
    "plt.ylabel('Number of users')\n",
    "\n",
    "import matplotlib.dates as mdates\n",
    "plt.gca().xaxis.set_major_formatter(mdates.DateFormatter('%Y %m'))\n",
    "plt.gca().xaxis.set_major_locator(mdates.YearLocator())\n",
    "plt.bar(x, y,label=\"D\")\n",
    "plt.legend()\n",
    "plt.show()"
   ]
  },
  {
   "cell_type": "code",
   "execution_count": 1,
   "metadata": {},
   "outputs": [],
   "source": [
    ""
   ]
  },
  {
   "cell_type": "code",
   "execution_count": 2,
   "metadata": {},
   "outputs": [],
   "source": [
    ""
   ]
  },
  {
   "cell_type": "code",
   "execution_count": null,
   "metadata": {},
   "outputs": [],
   "source": [
    ""
   ]
  }
 ],
 "metadata": {
  "kernelspec": {
   "display_name": "Python 3",
   "language": "python",
   "name": "python3"
  },
  "language_info": {
   "codemirror_mode": {
    "name": "ipython",
    "version": 3.0
   },
   "file_extension": ".py",
   "mimetype": "text/x-python",
   "name": "python",
   "nbconvert_exporter": "python",
   "pygments_lexer": "ipython3",
   "version": "3.5.1"
  }
 },
 "nbformat": 4,
 "nbformat_minor": 0
}